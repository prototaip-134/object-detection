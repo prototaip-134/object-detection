{
 "cells": [
  {
   "cell_type": "markdown",
   "metadata": {},
   "source": [
    "### Imports"
   ]
  },
  {
   "cell_type": "code",
   "execution_count": 1,
   "metadata": {},
   "outputs": [],
   "source": [
    "# # # Install dependencies\n",
    "# %pip install -qr requirements.txt comet_ml\n",
    "# %pip install roboflow\n",
    "# %pip install ipywidgets"
   ]
  },
  {
   "cell_type": "code",
   "execution_count": 4,
   "metadata": {},
   "outputs": [],
   "source": [
    "# Go back to project root\n",
    "import os\n",
    "\n",
    "os.chdir('./../')"
   ]
  },
  {
   "cell_type": "code",
   "execution_count": 5,
   "metadata": {},
   "outputs": [
    {
     "name": "stderr",
     "output_type": "stream",
     "text": [
      "YOLOv5 🚀 6b940e4a Python-3.8.19 torch-1.10.1 CUDA:0 (NVIDIA GeForce RTX 4090, 24188MiB)\n"
     ]
    },
    {
     "name": "stdout",
     "output_type": "stream",
     "text": [
      "Setup complete ✅ (24 CPUs, 31.3 GB RAM, 284.1/450.2 GB disk)\n"
     ]
    }
   ],
   "source": [
    "# Initial checks\n",
    "import torch\n",
    "import utils\n",
    "\n",
    "display = utils.notebook_init()  # checks"
   ]
  },
  {
   "cell_type": "markdown",
   "metadata": {},
   "source": [
    "### Downloading Dataset"
   ]
  },
  {
   "cell_type": "code",
   "execution_count": null,
   "metadata": {},
   "outputs": [],
   "source": [
    "# Download custom dataset from Robolow\n",
    "from roboflow import Roboflow\n",
    "import os\n",
    "\n",
    "API_KEY = \"Kw5nBg2qD0TYmKCMBW8Q\" # INSERT API KEY\n",
    "WORKSPACE = \"part-iv-project\" # INSERT WORKSPACE\n",
    "PROJECT = \"cow-dataset\" # INSERT PROJECT\n",
    "VERSION = 1 # INSERT VERSION NUMBER\n",
    "\n",
    "rf = Roboflow(api_key=API_KEY)\n",
    "project = rf.workspace(WORKSPACE).project(PROJECT)\n",
    "version = project.version(VERSION)\n",
    "dataset = version.download(\"yolov5\", os.path.join('data', WORKSPACE + str(VERSION)))"
   ]
  },
  {
   "cell_type": "markdown",
   "metadata": {},
   "source": [
    "### Training"
   ]
  },
  {
   "cell_type": "code",
   "execution_count": null,
   "metadata": {},
   "outputs": [],
   "source": [
    "#@title Select YOLOv5 🚀 logger {run: 'auto'}\n",
    "logger = 'Comet' #@param ['Comet', 'ClearML', 'TensorBoard']\n",
    "\n",
    "if logger == 'Comet':\n",
    "  %pip install -q comet_ml\n",
    "  import comet_ml; comet_ml.init()\n",
    "elif logger == 'ClearML':\n",
    "  %pip install -q clearml\n",
    "  import clearml; clearml.browser_login()\n",
    "elif logger == 'TensorBoard':\n",
    "  %load_ext tensorboard\n",
    "  %tensorboard --logdir runs/train"
   ]
  },
  {
   "cell_type": "code",
   "execution_count": null,
   "metadata": {},
   "outputs": [],
   "source": [
    "!python train.py --img 640 --batch 4 --epochs 3 --data /usr/src/app/data/part-iv-project1/data.yaml --weights yolov5s.pt --cache"
   ]
  }
 ],
 "metadata": {
  "kernelspec": {
   "display_name": "object",
   "language": "python",
   "name": "python3"
  },
  "language_info": {
   "codemirror_mode": {
    "name": "ipython",
    "version": 3
   },
   "file_extension": ".py",
   "mimetype": "text/x-python",
   "name": "python",
   "nbconvert_exporter": "python",
   "pygments_lexer": "ipython3",
   "version": "3.8.19"
  }
 },
 "nbformat": 4,
 "nbformat_minor": 2
}
