{
 "cells": [
  {
   "cell_type": "markdown",
   "id": "d2b673af",
   "metadata": {
    "papermill": {
     "duration": 0.008885,
     "end_time": "2023-08-30T06:16:44.651747",
     "exception": false,
     "start_time": "2023-08-30T06:16:44.642862",
     "status": "completed"
    },
    "tags": []
   },
   "source": [
    "# Convert XML annotations to Roboflow approved .txt annotations"
   ]
  },
  {
   "cell_type": "code",
   "execution_count": null,
   "id": "a0017c6f",
   "metadata": {
    "papermill": {
     "duration": 0.026475,
     "end_time": "2023-08-30T06:16:44.686408",
     "exception": false,
     "start_time": "2023-08-30T06:16:44.659933",
     "status": "completed"
    },
    "tags": []
   },
   "outputs": [],
   "source": [
    "!pip install pandas"
   ]
  },
  {
   "cell_type": "code",
   "execution_count": 2,
   "id": "765ff610",
   "metadata": {},
   "outputs": [],
   "source": [
    "import pandas as pd\n",
    "import numpy as np\n",
    "import os\n",
    "import glob\n",
    "import xml.etree.ElementTree as ET \n",
    "import random\n",
    "import shutil"
   ]
  },
  {
   "cell_type": "code",
   "execution_count": null,
   "id": "9c3de2b2",
   "metadata": {
    "papermill": {
     "duration": 0.015669,
     "end_time": "2023-08-30T06:16:44.709738",
     "exception": false,
     "start_time": "2023-08-30T06:16:44.694069",
     "status": "completed"
    },
    "tags": []
   },
   "outputs": [],
   "source": [
    "# Get path of .xml file type annotations\n",
    "!mkdir raw\n",
    "path = os.path.join(os.getcwd(), \"raw\", \"dataset\", \"annotations.xml\")\n",
    "print(path)"
   ]
  },
  {
   "cell_type": "code",
   "execution_count": 4,
   "id": "efc5e093",
   "metadata": {
    "papermill": {
     "duration": 0.144599,
     "end_time": "2023-08-30T06:16:44.862288",
     "exception": false,
     "start_time": "2023-08-30T06:16:44.717689",
     "status": "completed"
    },
    "tags": []
   },
   "outputs": [],
   "source": [
    "# Extract required data fields from annotations file\n",
    "dataset = []\n",
    "\n",
    "for anno in glob.glob(path):\n",
    "    tree = ET.parse(anno)\n",
    "    root = tree.getroot()\n",
    "    \n",
    "    for image_elem in root.iter(\"image\"):\n",
    "        image_attrs = image_elem.attrib\n",
    "        image_data = {\n",
    "            \"filename\": image_attrs['name'],\n",
    "            \"width\": float(image_attrs['width']),\n",
    "            \"height\": float(image_attrs['height']),\n",
    "            \"boxes\": []\n",
    "        }\n",
    "        \n",
    "        for box_elem in image_elem.iter(\"box\"):\n",
    "            box_attrs = box_elem.attrib\n",
    "            box_data = {\n",
    "                \"label\": box_attrs['label'],\n",
    "                \"occluded\": int(box_attrs['occluded']),\n",
    "                \"xtl\": float(box_attrs['xtl']),\n",
    "                \"ytl\": float(box_attrs['ytl']),\n",
    "                \"xbr\": float(box_attrs['xbr']),\n",
    "                \"ybr\": float(box_attrs['ybr'])\n",
    "            }\n",
    "            image_data[\"boxes\"].append(box_data)\n",
    "        \n",
    "        dataset.append(image_data)"
   ]
  },
  {
   "cell_type": "code",
   "execution_count": null,
   "id": "4074620d",
   "metadata": {
    "papermill": {
     "duration": 0.656679,
     "end_time": "2023-08-30T06:16:45.526844",
     "exception": false,
     "start_time": "2023-08-30T06:16:44.870165",
     "status": "completed"
    },
    "tags": []
   },
   "outputs": [],
   "source": [
    "data0=pd.DataFrame(dataset)\n",
    "display(data0)"
   ]
  },
  {
   "cell_type": "code",
   "execution_count": null,
   "id": "91e5c1de",
   "metadata": {
    "papermill": {
     "duration": 1.801709,
     "end_time": "2023-08-30T06:16:47.338517",
     "exception": false,
     "start_time": "2023-08-30T06:16:45.536808",
     "status": "completed"
    },
    "tags": []
   },
   "outputs": [],
   "source": [
    "data2=pd.DataFrame()\n",
    "for i in range(len(data0)):\n",
    "    boxes=data0.loc[i,'boxes']\n",
    "    for box in boxes:\n",
    "        a=data0.loc[i,'filename']\n",
    "        b=data0.loc[i,'width']\n",
    "        c=data0.loc[i,'height']\n",
    "        d=box['xtl']\n",
    "        e=box['ytl']\n",
    "        f=box['xbr']\n",
    "        g=box['ybr']\n",
    "        add_df=pd.DataFrame([[a,b,c,d,e,f,g]])\n",
    "        data2=pd.concat([data2,add_df],axis=0)\n",
    "data2.columns=['filename','width','height','xtl','ytl','xbr','ybr']\n",
    "display(data2)        "
   ]
  },
  {
   "cell_type": "code",
   "execution_count": null,
   "id": "73de4cdf",
   "metadata": {
    "papermill": {
     "duration": 0.035977,
     "end_time": "2023-08-30T06:16:47.383659",
     "exception": false,
     "start_time": "2023-08-30T06:16:47.347682",
     "status": "completed"
    },
    "tags": []
   },
   "outputs": [],
   "source": [
    "display(data2.info())"
   ]
  },
  {
   "cell_type": "code",
   "execution_count": 8,
   "id": "32323124",
   "metadata": {
    "papermill": {
     "duration": 0.041985,
     "end_time": "2023-08-30T06:16:47.435061",
     "exception": false,
     "start_time": "2023-08-30T06:16:47.393076",
     "status": "completed"
    },
    "tags": []
   },
   "outputs": [],
   "source": [
    "data2['label']=0\n",
    "data2['Xcent']=(data2['xtl']+data2['xbr'])/(2*data2['width'])\n",
    "data2['Ycent']=(data2['ytl']+data2['ybr'])/(2*data2['height'])\n",
    "data2['boxW']=(data2['xbr']-data2['xtl'])/data2['width']\n",
    "data2['boxH']=(data2['ybr']-data2['ytl'])/data2['height']"
   ]
  },
  {
   "cell_type": "code",
   "execution_count": null,
   "id": "ba505fb3",
   "metadata": {
    "papermill": {
     "duration": 0.0721,
     "end_time": "2023-08-30T06:16:47.516403",
     "exception": false,
     "start_time": "2023-08-30T06:16:47.444303",
     "status": "completed"
    },
    "tags": []
   },
   "outputs": [],
   "source": [
    "# Convert extracted data to .csv file\n",
    "display(data2)\n",
    "data2.to_csv('annotation.csv', path_or_buf=\"raw\", index=False)"
   ]
  },
  {
   "cell_type": "code",
   "execution_count": null,
   "id": "137ab455",
   "metadata": {
    "papermill": {
     "duration": 1.135694,
     "end_time": "2023-08-30T06:16:48.662213",
     "exception": false,
     "start_time": "2023-08-30T06:16:47.526519",
     "status": "completed"
    },
    "tags": []
   },
   "outputs": [],
   "source": [
    "!mkdir {os.path.join(\"raw\", \"labels\")}"
   ]
  },
  {
   "cell_type": "code",
   "execution_count": 15,
   "id": "1bb9e159",
   "metadata": {
    "papermill": {
     "duration": 0.11674,
     "end_time": "2023-08-30T06:16:48.788582",
     "exception": false,
     "start_time": "2023-08-30T06:16:48.671842",
     "status": "completed"
    },
    "tags": []
   },
   "outputs": [],
   "source": [
    "# Convert .csv file data into .txt annotations\n",
    "files=data2['filename'].unique().tolist()\n",
    "for file in files:\n",
    "    datai=data2[data2['filename']==file].iloc[:,7:]\n",
    "    name=file.split('/')[-1][0:-4]\n",
    "    fmt = ['%d'] + ['%f'] * (datai.shape[1]-1)\n",
    "    np.savetxt(\"labels/\" + name + \".txt\", np.array(datai), fmt=fmt, delimiter=\" \")"
   ]
  },
  {
   "cell_type": "markdown",
   "id": "7d8b0c28",
   "metadata": {
    "papermill": {
     "duration": 0.009232,
     "end_time": "2023-08-30T06:16:48.827999",
     "exception": false,
     "start_time": "2023-08-30T06:16:48.818767",
     "status": "completed"
    },
    "tags": []
   },
   "source": [
    "# Partition dataset for YOLOv5"
   ]
  },
  {
   "cell_type": "code",
   "execution_count": 24,
   "id": "f601e75c",
   "metadata": {
    "papermill": {
     "duration": 0.018637,
     "end_time": "2023-08-30T06:16:48.856614",
     "exception": false,
     "start_time": "2023-08-30T06:16:48.837977",
     "status": "completed"
    },
    "tags": []
   },
   "outputs": [],
   "source": [
    "path0 = os.path.join(os.getcwd(), \"raw\", \"dataset\", \"images\")\n",
    "path0l = os.path.join(os.getcwd(), \"raw\", \"labels\")\n",
    "\n",
    "path1a = os.path.join(os.getcwd(), \"raw\", \"datasetsFinal\", \"train\")\n",
    "path1b = os.path.join(os.getcwd(), \"raw\", \"datasetsFinal\", \"valid\")\n",
    "path1c = os.path.join(os.getcwd(), \"raw\", \"datasetsFinal\", \"test\")"
   ]
  },
  {
   "cell_type": "code",
   "execution_count": null,
   "id": "29aaf02f",
   "metadata": {
    "papermill": {
     "duration": 0.041892,
     "end_time": "2023-08-30T06:16:48.908288",
     "exception": false,
     "start_time": "2023-08-30T06:16:48.866396",
     "status": "completed"
    },
    "tags": []
   },
   "outputs": [],
   "source": [
    "paths0 = []\n",
    "\n",
    "for dirname, _, filenames in os.walk(path0):\n",
    "    for filename in filenames:\n",
    "        paths0+=[(os.path.join(dirname, filename))]\n",
    "\n",
    "# If using bash in windows run this version:\n",
    "# for dirname, _, filenames in os.walk(path0):\n",
    "#     for filename in filenames:\n",
    "#         paths0+=[(os.path.join(dirname, filename)).replace('\\\\', '/')]\n",
    "\n",
    "paths0=random.sample(paths0,len(paths0))\n",
    "print(paths0[0:5])"
   ]
  },
  {
   "cell_type": "code",
   "execution_count": null,
   "id": "8f67e146",
   "metadata": {
    "papermill": {
     "duration": 4.480107,
     "end_time": "2023-08-30T06:16:53.398592",
     "exception": false,
     "start_time": "2023-08-30T06:16:48.918485",
     "status": "completed"
    },
    "tags": []
   },
   "outputs": [],
   "source": [
    "!mkdir {os.path.join(\"raw\", \"datasetsFinal\")}\n",
    "!mkdir {path1a}\n",
    "!mkdir {path1b}\n",
    "!mkdir {path1c}"
   ]
  },
  {
   "cell_type": "code",
   "execution_count": 29,
   "id": "d8c6dc63",
   "metadata": {
    "papermill": {
     "duration": 113.353073,
     "end_time": "2023-08-30T06:18:46.763325",
     "exception": false,
     "start_time": "2023-08-30T06:16:53.410252",
     "status": "completed"
    },
    "tags": []
   },
   "outputs": [],
   "source": [
    "# Partition dataset for train, valid and test\n",
    "\n",
    "for i,path in enumerate(paths0):\n",
    "    if i<len(paths0)*3//5:\n",
    "        !cp -r {path} {path1a}\n",
    "        file=path.split('/')[-1].split('.')[0]+'.txt'\n",
    "        path2=os.path.join(path0l,file)\n",
    "        !cp -r {path2} {path1a} \n",
    "    elif i<len(paths0)*4//5:\n",
    "        !cp -r {path} {path1b}\n",
    "        file=path.split('/')[-1].split('.')[0]+'.txt'\n",
    "        path2=os.path.join(path0l,file)\n",
    "        !cp -r {path2} {path1b}         \n",
    "    else:\n",
    "        !cp -r {path} {path1c}\n",
    "        file=path.split('/')[-1].split('.')[0]+'.txt'\n",
    "        path2=os.path.join(path0l,file)\n",
    "        !cp -r {path2} {path1c}   "
   ]
  }
 ],
 "metadata": {
  "kernelspec": {
   "display_name": "Python 3 (ipykernel)",
   "language": "python",
   "name": "python3"
  },
  "language_info": {
   "codemirror_mode": {
    "name": "ipython",
    "version": 3
   },
   "file_extension": ".py",
   "mimetype": "text/x-python",
   "name": "python",
   "nbconvert_exporter": "python",
   "pygments_lexer": "ipython3",
   "version": "3.9.19"
  },
  "papermill": {
   "default_parameters": {},
   "duration": 133.883506,
   "end_time": "2023-08-30T06:18:48.575715",
   "environment_variables": {},
   "exception": null,
   "input_path": "__notebook__.ipynb",
   "output_path": "__notebook__.ipynb",
   "parameters": {},
   "start_time": "2023-08-30T06:16:34.692209",
   "version": "2.3.3"
  }
 },
 "nbformat": 4,
 "nbformat_minor": 5
}
